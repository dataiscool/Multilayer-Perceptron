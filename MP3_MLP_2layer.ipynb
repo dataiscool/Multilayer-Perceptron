{
  "nbformat": 4,
  "nbformat_minor": 0,
  "metadata": {
    "colab": {
      "name": "MP3-MLP-2layer.ipynb",
      "provenance": [],
      "collapsed_sections": []
    },
    "kernelspec": {
      "name": "python3",
      "display_name": "Python 3"
    },
    "language_info": {
      "name": "python"
    }
  },
  "cells": [
    {
      "cell_type": "code",
      "metadata": {
        "id": "LSxP4swbGmnx"
      },
      "source": [
        "import numpy as np\n",
        "#%matplotlib notebook\n",
        "%matplotlib inline\n",
        "import matplotlib.pyplot as plt\n",
        "from IPython.core.debugger import set_trace\n",
        "import warnings\n",
        "warnings.filterwarnings('ignore')\n",
        "import tensorflow as tf \n",
        "import time"
      ],
      "execution_count": null,
      "outputs": []
    },
    {
      "cell_type": "code",
      "metadata": {
        "colab": {
          "base_uri": "https://localhost:8080/"
        },
        "id": "cD9Q04MHEUD6",
        "outputId": "efc72507-cc71-4d47-a23d-3d8f7538fc43"
      },
      "source": [
        "#load data\n",
        "\n",
        "(x_train, y_train), (x_test, y_test) = tf.keras.datasets.mnist.load_data()\n",
        "image_size = x_train.shape[1]\n",
        "input_size = image_size * image_size\n",
        "\n",
        "x_train = np.reshape(x_train, [-1, input_size])\n",
        "x_train = x_train.astype('float32') / 255\n",
        "x_test = np.reshape(x_test, [-1, input_size])\n",
        "x_test = x_test.astype('float32') / 255\n",
        "\n",
        "y_train = y_train.astype('int32').reshape(-1,1)\n",
        "y_test = y_test.astype('int32').reshape(-1,1)\n",
        "\n",
        "#stack to simplify below \n",
        "X = np.vstack((x_train, x_test))\n",
        "y = np.vstack((y_train, y_test))\n",
        "\n",
        "#======= one-hot encoding\n",
        "digits = 10\n",
        "examples = y.shape[0]\n",
        "y = y.reshape(1, examples)\n",
        "Y_new = np.eye(digits)[y.astype('int32')]\n",
        "Y_new = Y_new.T.reshape(digits, examples)\n",
        "\n",
        "# ======= number of training set\n",
        "m = 60000\n",
        "m_test = X.shape[0] - m\n",
        "X_train, X_test = X[:m].T, X[m:].T\n",
        "Y_train, Y_test = Y_new[:, :m], Y_new[:, m:]\n",
        "\n",
        "\n",
        "# shuffle training set\n",
        "shuffle_index = np.random.permutation(m)\n",
        "X_train, Y_train = X_train[:, shuffle_index].T, Y_train[:, shuffle_index].T\n",
        "X_test = X_test.T\n",
        "Y_test = Y_test.T\n",
        "print(Y_train.shape) # N x C\n",
        "print(X_train.shape) # N x D\n",
        "print(X_test.shape) # N x D\n",
        "print(Y_test.shape) # N x C"
      ],
      "execution_count": null,
      "outputs": [
        {
          "output_type": "stream",
          "text": [
            "Downloading data from https://storage.googleapis.com/tensorflow/tf-keras-datasets/mnist.npz\n",
            "11493376/11490434 [==============================] - 0s 0us/step\n",
            "(60000, 10)\n",
            "(60000, 784)\n",
            "(10000, 784)\n",
            "(10000, 10)\n"
          ],
          "name": "stdout"
        }
      ]
    },
    {
      "cell_type": "code",
      "metadata": {
        "id": "52-GoRDit1Mz"
      },
      "source": [
        "class MLP(): # 0 hidden layers\n",
        "    def __init__(self, sizes, epochs=8, l_rate=0.001):\n",
        "        self.sizes = sizes\n",
        "        self.epochs = epochs\n",
        "        self.l_rate = l_rate\n",
        "\n",
        "        # we save all parameters in the neural network in this dictionary\n",
        "        self.params = self.initialization()\n",
        "\n",
        "    # def sigmoid(self, x, derivative=False):\n",
        "    #   if derivative:\n",
        "    #     return (np.exp(-x))/((np.exp(-x)+1)**2)\n",
        "    #   return 1/(1 + np.exp(-x))\n",
        "\n",
        "    def softmax(self, x, derivative=False):\n",
        "        # Numerically stable with large exponentials\n",
        "        exps = np.exp(x - x.max())\n",
        "        if derivative:\n",
        "            return exps / np.sum(exps, axis=0) * (1 - exps / np.sum(exps, axis=0))\n",
        "        return exps / np.sum(exps, axis=0)\n",
        "\n",
        "    def reLU(self, x, derivative=False):\n",
        "        if(derivative == True):\n",
        "          return 1. * (x > 0)\n",
        "        else:\n",
        "          return x * (x > 0)\n",
        "\n",
        "    def initialization(self):\n",
        "        # number of nodes in each layer\n",
        "        input_layer=self.sizes[0]\n",
        "        hidden_1=self.sizes[1]\n",
        "        hidden_2=self.sizes[2]\n",
        "        output_layer=self.sizes[3]\n",
        "\n",
        "        params = { #sizes=[784, 10]\n",
        "                  #-- 0 layers-\n",
        "                  # 'W1':np.random.randn(output_layer, input_layer) * np.sqrt(1. / output_layer), #10 x 784\n",
        "                  # 'b1':np.zeros(output_layer)*np.sqrt(1./output_layer) #10 x 1\n",
        "\n",
        "                  #-- 1 layers -\n",
        "                  # 'W1':np.random.randn(hidden_1, input_layer) * np.sqrt(1. / hidden_1), #128 x 784\n",
        "                  # 'b1':np.zeros(hidden_1), # 128 x1\n",
        "                  # 'W2':np.random.randn(output_layer, hidden_1) * np.sqrt(1. / output_layer), #10 x 128\n",
        "                  # 'b2':np.zeros(output_layer) # 10 x1\n",
        "\n",
        "                  #-- 2 layers\n",
        "                  'W1':np.random.randn(hidden_1, input_layer) * np.sqrt(1. / hidden_1), #128 x 784\n",
        "                  'b1':np.zeros(hidden_1), # 128 x 1\n",
        "                  'W2':np.random.randn(hidden_2, hidden_1) * np.sqrt(1. / hidden_2), #128 x 128\n",
        "                  'b2':np.zeros(hidden_2), # 128 x 1\n",
        "                  'W3':np.random.randn(output_layer, hidden_2) * np.sqrt(1. / output_layer), #10x128\n",
        "                  'b3':np.random.randn(output_layer) # 10 x 1\n",
        "        }\n",
        "\n",
        "        return params\n",
        "    \n",
        "    def forward_pass(self, x_train):\n",
        "      params = self.params\n",
        "\n",
        "      # input layer activations becomes sample\n",
        "      params['A0'] = x_train # passed in from fit, (1 image, since sgd) => (784,)\n",
        "\n",
        "      #0 layer ---------------------------\n",
        "      # params['Z1'] = np.dot(params['W1'], params['A0']) + params['b1'] # 10 x 1 \n",
        "      # params['A1'] = self.softmax(params['Z1'])\n",
        "      #-------------------------\n",
        "\n",
        "      #1 layer --------------------\n",
        "      # #input layer to hidden layer 1\n",
        "      # params['Z1'] = np.dot(params['W1'], params['A0']) + params['b1'] # 128 x 1\n",
        "      # params['A1'] = self.reLU(params['Z1'])\n",
        "\n",
        "      # #hidden layer to output layer\n",
        "      # params['Z2'] = np.dot(params['W2'], params['A1']) + params['b2'] # 10 x 1\n",
        "      # params['A2'] = self.softmax(params['Z2'])\n",
        "\n",
        "      # ##2 layers ------------------\n",
        "      # input layer to hidden layer 1\n",
        "      params['Z1'] = np.dot(params[\"W1\"], params['A0']) + params['b1'] # 128 x 1\n",
        "      params['A1'] = self.reLU(params['Z1'])\n",
        "\n",
        "      # hidden layer 1 to hidden layer 2\n",
        "      params['Z2'] = np.dot(params[\"W2\"], params['A1']) + params['b2'] #128 x 1\n",
        "      params['A2'] = self.reLU(params['Z2'])\n",
        "\n",
        "      # hidden layer 2 to output layer\n",
        "      params['Z3'] = np.dot(params[\"W3\"], params['A2']) + params['b3'] # 10 x 1\n",
        "      params['A3'] = self.softmax(params['Z3'])\n",
        "\n",
        "      return params['A3']\n",
        "\n",
        "    def backward_pass(self, y_train, output, L2, lambdaa):\n",
        "      params = self.params\n",
        "      change_w = {}\n",
        "\n",
        "      # W update - 0 layer ###########\n",
        "      # error = 2 * (output - y_train) / output.shape[0] * self.softmax(params['Z1'], derivative=True)\n",
        "      # change_w['W1'] = np.outer(error, params['A0'])  \n",
        "      # change_w['b1'] = error\n",
        "\n",
        "      # 1 layer ------------\n",
        "      # W2 update\n",
        "      # error = 2 * (output - y_train) / output.shape[0] * self.softmax(params['Z2'], derivative=True)\n",
        "      # change_w['W2'] = np.outer(error, params['A1']) \n",
        "      # change_w['b2'] = error\n",
        "\n",
        "      # # W1 update\n",
        "      # error = np.dot(params['W2'].T, error) * self.reLU(params['Z1'], derivative=True)\n",
        "      # change_w['W1'] = np.outer(error, params['A0'])\n",
        "      # change_w['b1'] = error\n",
        "\n",
        "      #2 layers ###############\n",
        "      # Calculate W3 update\n",
        "      error = 2 * (output - y_train) / output.shape[0] * self.softmax(params['Z3'], derivative=True)\n",
        "      change_w['W3'] = np.outer(error, params['A2'])\n",
        "      change_w['b3'] = error\n",
        "\n",
        "      # Calculate W2 update\n",
        "      error = np.dot(params['W3'].T, error) * self.reLU(params['Z2'], derivative=True)\n",
        "      change_w['W2'] = np.outer(error, params['A1'])\n",
        "      change_w['b2'] = error\n",
        "\n",
        "      # Calculate W1 update\n",
        "      error = np.dot(params['W2'].T, error) * self.reLU(params['Z1'], derivative=True)\n",
        "      change_w['W1'] = np.outer(error, params['A0'])\n",
        "      change_w['b1'] = error\n",
        "\n",
        "      #regularization\n",
        "      if L2: \n",
        "        change_w['W3'] += lambdaa*params['W3']\n",
        "        change_w['W2'] += lambdaa*params['W2']\n",
        "        change_w['W1'] += lambdaa*params['W1']\n",
        "      \n",
        "      return change_w\n",
        "  \n",
        "    def sgd(self, changes_to_w):\n",
        "      for key, value in changes_to_w.items():\n",
        "        # print(value.shape)\n",
        "        # print(value)\n",
        "        # print(self.params[key].shape)\n",
        "        self.params[key] -= self.l_rate * value\n",
        "\n",
        "    def compute_accuracy(self, x_val, y_val):\n",
        "      predictions = []\n",
        "\n",
        "      for i in range(x_val.shape[0]):\n",
        "          output = self.forward_pass(x_val[i]) #sent (784,)\n",
        "          pred = np.argmax(output)\n",
        "          predictions.append(pred == np.argmax(y_val[i])) #sent (10,)\n",
        "      \n",
        "      return np.mean(predictions)\n",
        "\n",
        "    def train(self, x_train, y_train, x_val, y_val):\n",
        "      num_epochs = [] #for plotting\n",
        "      num_acc = [] #for plotting\n",
        "      num_et = [] #for plotting training\n",
        "      num_at = [] #for plotting training\n",
        "      start_time = time.time()\n",
        "      for iteration in range(self.epochs):\n",
        "        #iterate down the arrays and send 1 image in at a time (sgd, batch = 1)\n",
        "          for i in range(x_train.shape[0]): #x_train = 60,000 x 784, y_train = 60,000 x 10\n",
        "              output = self.forward_pass(x_train[i]) # sent (784,)\n",
        "              changes_to_w = self.backward_pass(y_train[i], output, L2=True, lambdaa=0.0001) # sent (10,)\n",
        "              self.sgd(changes_to_w)\n",
        "          #test acc\n",
        "          accuracy = self.compute_accuracy(x_val, y_val) # x, y = 10,000 x 784, 10,000 x 10\n",
        "          print('Epoch: {0}, Time Spent: {1:.2f}s, Accuracy: {2:.2f}%'.format(\n",
        "              iteration+1, time.time() - start_time, accuracy * 100))\n",
        "          num_epochs.append(iteration)\n",
        "          num_acc.append(accuracy * 100)\n",
        "          #training acc\n",
        "          accuracyt = self.compute_accuracy(x_train, y_train)\n",
        "          num_et.append(iteration)\n",
        "          num_at.append(accuracyt * 100)\n",
        "      plt.plot(num_epochs, num_acc, label = \"Test\")\n",
        "      plt.plot(num_et, num_at, label = \"Train\")\n",
        "      plt.xlabel(\"Epochs\")\n",
        "      plt.ylabel(\"Accuracy\")\n",
        "      plt.title(\"MLP With 2 Hidden ReLu Layers & L2 regularization\")\n",
        "      plt.grid('On')\n",
        "      fig = plt.gcf()\n",
        "      leg = plt.legend()\n",
        "      #return num_acc[-1]\n",
        "          \n"
      ],
      "execution_count": null,
      "outputs": []
    },
    {
      "cell_type": "code",
      "metadata": {
        "colab": {
          "base_uri": "https://localhost:8080/",
          "height": 431
        },
        "id": "MBsY8kiZu0k8",
        "outputId": "290d1855-36ec-4f37-f7a6-2a6f01901a01"
      },
      "source": [
        "mlp = MLP(sizes=[784,128,128,10])\n",
        "mlp.train(X_train, Y_train, X_test, Y_test)"
      ],
      "execution_count": null,
      "outputs": [
        {
          "output_type": "stream",
          "text": [
            "Epoch: 1, Time Spent: 58.14s, Accuracy: 73.27%\n",
            "Epoch: 2, Time Spent: 116.85s, Accuracy: 85.19%\n",
            "Epoch: 3, Time Spent: 175.03s, Accuracy: 88.45%\n",
            "Epoch: 4, Time Spent: 233.68s, Accuracy: 89.62%\n",
            "Epoch: 5, Time Spent: 292.49s, Accuracy: 90.23%\n",
            "Epoch: 6, Time Spent: 351.47s, Accuracy: 90.91%\n",
            "Epoch: 7, Time Spent: 410.83s, Accuracy: 91.35%\n",
            "Epoch: 8, Time Spent: 469.16s, Accuracy: 91.72%\n"
          ],
          "name": "stdout"
        },
        {
          "output_type": "display_data",
          "data": {
            "image/png": "[encoded data removed]",
            "text/plain": [
              "<Figure size 432x288 with 1 Axes>"
            ]
          },
          "metadata": {
            "tags": [],
            "needs_background": "light"
          }
        }
      ]
    },
    {
      "cell_type": "code",
      "metadata": {
        "colab": {
          "base_uri": "https://localhost:8080/",
          "height": 431
        },
        "id": "vPK8tdlbXwoI",
        "outputId": "9f1365a9-13f0-4461-90d8-8a8c78d9325b"
      },
      "source": [
        "mlp = MLP(sizes=[784,64,64,10])\n",
        "mlp.train(X_train, Y_train, X_test, Y_test)"
      ],
      "execution_count": null,
      "outputs": [
        {
          "output_type": "stream",
          "text": [
            "Epoch: 1, Time Spent: 37.67s, Accuracy: 61.98%\n",
            "Epoch: 2, Time Spent: 75.28s, Accuracy: 78.83%\n",
            "Epoch: 3, Time Spent: 113.36s, Accuracy: 83.89%\n",
            "Epoch: 4, Time Spent: 151.44s, Accuracy: 86.55%\n",
            "Epoch: 5, Time Spent: 189.48s, Accuracy: 87.72%\n",
            "Epoch: 6, Time Spent: 227.55s, Accuracy: 88.47%\n",
            "Epoch: 7, Time Spent: 265.92s, Accuracy: 89.18%\n",
            "Epoch: 8, Time Spent: 303.70s, Accuracy: 89.73%\n"
          ],
          "name": "stdout"
        },
        {
          "output_type": "display_data",
          "data": {
            "image/png": "[encoded data removed]",
            "text/plain": [
              "<Figure size 432x288 with 1 Axes>"
            ]
          },
          "metadata": {
            "tags": [],
            "needs_background": "light"
          }
        }
      ]
    },
    {
      "cell_type": "code",
      "metadata": {
        "colab": {
          "base_uri": "https://localhost:8080/",
          "height": 431
        },
        "id": "SbASAvU8ldNp",
        "outputId": "ea9f7f06-4681-4e3f-eade-e82dbe99dfb8"
      },
      "source": [
        "mlp = MLP(sizes=[784,256,256,10])\n",
        "mlp.train(X_train, Y_train, X_test, Y_test)"
      ],
      "execution_count": null,
      "outputs": [
        {
          "output_type": "stream",
          "text": [
            "Epoch: 1, Time Spent: 126.77s, Accuracy: 86.14%\n",
            "Epoch: 2, Time Spent: 254.14s, Accuracy: 89.72%\n",
            "Epoch: 3, Time Spent: 382.99s, Accuracy: 90.93%\n",
            "Epoch: 4, Time Spent: 509.18s, Accuracy: 91.57%\n",
            "Epoch: 5, Time Spent: 634.18s, Accuracy: 92.07%\n",
            "Epoch: 6, Time Spent: 758.85s, Accuracy: 92.61%\n",
            "Epoch: 7, Time Spent: 887.94s, Accuracy: 92.98%\n",
            "Epoch: 8, Time Spent: 1016.61s, Accuracy: 93.26%\n"
          ],
          "name": "stdout"
        },
        {
          "output_type": "display_data",
          "data": {
            "image/png": "[encoded data removed]",
            "text/plain": [
              "<Figure size 432x288 with 1 Axes>"
            ]
          },
          "metadata": {
            "tags": [],
            "needs_background": "light"
          }
        }
      ]
    },
    {
      "cell_type": "code",
      "metadata": {
        "colab": {
          "base_uri": "https://localhost:8080/",
          "height": 1000
        },
        "id": "UcaGk9vDjdn0",
        "outputId": "e70ad616-f078-4a8e-f218-a8b6184fc420"
      },
      "source": [
        "## training size\n",
        "accum_acc = [] #accumulate accuracy values\n",
        "\n",
        "for i in range(4):\n",
        "  X_train_cut, Y_train_cut = X_train[:10**i,:], Y_train[:10**i,:]\n",
        "  mlp = MLP(sizes=[784,128,128,10])\n",
        "  accum_acc.append(dnn.train(X_train_cut, Y_train_cut, X_test, Y_test))\n",
        "\n",
        "plt.plot(accum_acc)\n",
        "plt.xlabel(\"k (10^k images)\")\n",
        "plt.ylabel(\"Accuracy\")\n",
        "plt.title(\"MLP With 2 Hidden ReLu Layers - Training Set Size Effect\")\n",
        "plt.grid('On')\n",
        "fig = plt.gcf()\n",
        "leg = plt.legend()\n",
        "\n",
        "accum_acc = []\n",
        "for i in range(4):\n",
        "  X_train_cut, Y_train_cut = X_train[:10**i,:], Y_train[:10**i,:]\n",
        "  mlp = MLP(sizes=[78])"
      ],
      "execution_count": null,
      "outputs": [
        {
          "output_type": "stream",
          "text": [
            "Epoch: 1, Time Spent: 1.01s, Accuracy: 5.83%\n",
            "Epoch: 2, Time Spent: 2.01s, Accuracy: 5.84%\n",
            "Epoch: 3, Time Spent: 2.99s, Accuracy: 5.85%\n",
            "Epoch: 4, Time Spent: 3.94s, Accuracy: 5.84%\n",
            "Epoch: 5, Time Spent: 4.96s, Accuracy: 5.84%\n",
            "Epoch: 6, Time Spent: 5.93s, Accuracy: 5.83%\n",
            "Epoch: 7, Time Spent: 6.91s, Accuracy: 5.86%\n",
            "Epoch: 8, Time Spent: 7.86s, Accuracy: 5.91%\n",
            "Epoch: 9, Time Spent: 8.82s, Accuracy: 5.91%\n",
            "Epoch: 10, Time Spent: 9.86s, Accuracy: 5.90%\n",
            "Epoch: 11, Time Spent: 10.85s, Accuracy: 5.91%\n",
            "Epoch: 12, Time Spent: 11.82s, Accuracy: 5.93%\n",
            "Epoch: 13, Time Spent: 12.63s, Accuracy: 5.95%\n",
            "Epoch: 14, Time Spent: 13.62s, Accuracy: 5.95%\n",
            "Epoch: 15, Time Spent: 14.59s, Accuracy: 5.95%\n",
            "Epoch: 1, Time Spent: 0.93s, Accuracy: 8.66%\n",
            "Epoch: 2, Time Spent: 1.93s, Accuracy: 8.60%\n",
            "Epoch: 3, Time Spent: 2.78s, Accuracy: 8.54%\n",
            "Epoch: 4, Time Spent: 3.76s, Accuracy: 8.50%\n",
            "Epoch: 5, Time Spent: 4.63s, Accuracy: 8.38%\n",
            "Epoch: 6, Time Spent: 5.62s, Accuracy: 8.35%\n",
            "Epoch: 7, Time Spent: 6.56s, Accuracy: 8.32%\n",
            "Epoch: 8, Time Spent: 7.44s, Accuracy: 8.26%\n",
            "Epoch: 9, Time Spent: 8.42s, Accuracy: 8.21%\n",
            "Epoch: 10, Time Spent: 9.40s, Accuracy: 8.12%\n",
            "Epoch: 11, Time Spent: 10.42s, Accuracy: 8.01%\n",
            "Epoch: 12, Time Spent: 11.40s, Accuracy: 7.98%\n",
            "Epoch: 13, Time Spent: 12.39s, Accuracy: 7.99%\n",
            "Epoch: 14, Time Spent: 13.35s, Accuracy: 8.00%\n",
            "Epoch: 15, Time Spent: 14.35s, Accuracy: 7.90%\n",
            "Epoch: 1, Time Spent: 1.07s, Accuracy: 9.21%\n",
            "Epoch: 2, Time Spent: 2.14s, Accuracy: 9.36%\n",
            "Epoch: 3, Time Spent: 3.20s, Accuracy: 9.41%\n",
            "Epoch: 4, Time Spent: 4.29s, Accuracy: 9.64%\n",
            "Epoch: 5, Time Spent: 5.36s, Accuracy: 9.74%\n",
            "Epoch: 6, Time Spent: 6.50s, Accuracy: 10.02%\n",
            "Epoch: 7, Time Spent: 7.55s, Accuracy: 10.28%\n",
            "Epoch: 8, Time Spent: 8.64s, Accuracy: 10.54%\n",
            "Epoch: 9, Time Spent: 9.66s, Accuracy: 10.82%\n",
            "Epoch: 10, Time Spent: 10.73s, Accuracy: 11.25%\n",
            "Epoch: 11, Time Spent: 11.74s, Accuracy: 11.79%\n",
            "Epoch: 12, Time Spent: 12.81s, Accuracy: 12.41%\n",
            "Epoch: 13, Time Spent: 13.89s, Accuracy: 12.94%\n",
            "Epoch: 14, Time Spent: 14.92s, Accuracy: 13.40%\n",
            "Epoch: 15, Time Spent: 16.00s, Accuracy: 14.13%\n",
            "Epoch: 1, Time Spent: 1.95s, Accuracy: 14.86%\n",
            "Epoch: 2, Time Spent: 3.90s, Accuracy: 17.99%\n",
            "Epoch: 3, Time Spent: 5.84s, Accuracy: 21.40%\n",
            "Epoch: 4, Time Spent: 7.80s, Accuracy: 24.14%\n",
            "Epoch: 5, Time Spent: 9.75s, Accuracy: 26.29%\n",
            "Epoch: 6, Time Spent: 11.76s, Accuracy: 28.69%\n",
            "Epoch: 7, Time Spent: 13.74s, Accuracy: 30.98%\n",
            "Epoch: 8, Time Spent: 15.75s, Accuracy: 33.67%\n",
            "Epoch: 9, Time Spent: 17.75s, Accuracy: 36.76%\n",
            "Epoch: 10, Time Spent: 19.74s, Accuracy: 39.22%\n",
            "Epoch: 11, Time Spent: 21.73s, Accuracy: 41.16%\n",
            "Epoch: 12, Time Spent: 23.70s, Accuracy: 43.10%\n",
            "Epoch: 13, Time Spent: 25.59s, Accuracy: 44.88%\n",
            "Epoch: 14, Time Spent: 27.55s, Accuracy: 46.40%\n"
          ],
          "name": "stdout"
        },
        {
          "output_type": "stream",
          "text": [
            "No handles with labels found to put in legend.\n"
          ],
          "name": "stderr"
        },
        {
          "output_type": "stream",
          "text": [
            "Epoch: 15, Time Spent: 29.52s, Accuracy: 47.99%\n"
          ],
          "name": "stdout"
        },
        {
          "output_type": "display_data",
          "data": {
            "image/png": "[encoded data removed]",
            "text/plain": [
              "<Figure size 432x288 with 1 Axes>"
            ]
          },
          "metadata": {
            "tags": [],
            "needs_background": "light"
          }
        }
      ]
    }
  ]
}